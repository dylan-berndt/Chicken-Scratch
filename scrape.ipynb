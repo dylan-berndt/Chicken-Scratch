{
 "cells": [
  {
   "cell_type": "code",
   "execution_count": 5,
   "metadata": {},
   "outputs": [],
   "source": [
    "from twikit import Client\n",
    "import re\n",
    "import string\n",
    "import os\n",
    "import json\n",
    "\n",
    "printable = set(string.printable)\n",
    "\n",
    "\n",
    "def sanitize(text):\n",
    "    text = re.sub(r'http\\S+', '', text)\n",
    "\n",
    "    text = re.sub(r'\\n', ' ', text)\n",
    "    text = re.sub(r'@\\w+', '', text)\n",
    "    text = re.sub(r'@\\w+ ', ' ', text)\n",
    "    \n",
    "    text = ''.join(filter(lambda x: x in printable, text))\n",
    "    text = text.lower().strip().rstrip()\n",
    "    return text"
   ]
  },
  {
   "cell_type": "code",
   "execution_count": 6,
   "metadata": {
    "collapsed": false,
    "jupyter": {
     "outputs_hidden": false
    }
   },
   "outputs": [],
   "source": [
    "client = Client('en-US')\n",
    "\n",
    "clientDict = {'JoeNuts836498': 'techno34',\n",
    "             'dylan_berndt': 'techno34'}"
   ]
  },
  {
   "cell_type": "code",
   "execution_count": 7,
   "metadata": {},
   "outputs": [],
   "source": [
    "seenIds = []\n",
    "path = 'data/'\n",
    "files = os.listdir(path)\n",
    "for fileName in files:\n",
    "    if not fileName.endswith('.json'):\n",
    "        continue\n",
    "    file = open(path + fileName)\n",
    "    fileData = json.load(file)\n",
    "    for key, tweet in fileData.items():\n",
    "        if key not in seenIds:\n",
    "            seenIds.append(key)"
   ]
  },
  {
   "cell_type": "code",
   "execution_count": 8,
   "metadata": {
    "collapsed": false,
    "jupyter": {
     "outputs_hidden": false
    }
   },
   "outputs": [
    {
     "name": "stdout",
     "output_type": "stream",
     "text": [
      "JoeNuts836498 Tweets: 30 Replies: 267\r\n",
      "dylan_berndt Tweets: 28 Replies: 250\r\n",
      "JoeNuts836498 Tweets: 30 Replies: 254\r\n",
      "dylan_berndt Tweets: 32 Replies: 288\r\n",
      "JoeNuts836498 Tweets: 30 Replies: 279\r\n",
      "dylan_berndt Tweets: 32 Replies: 301\r\n",
      "JoeNuts836498 Tweets: 31 Replies: 286\r\n",
      "dylan_berndt Tweets: 33 Replies: 259\r\n",
      "JoeNuts836498 Tweets: 31 Replies: 285\r\n",
      "dylan_berndt Tweets: 27 Replies: 251\r\n",
      "JoeNuts836498 Tweets: 30 Replies: 277\r\n",
      "dylan_berndt Tweets: 29 Replies: 270\r\n",
      "JoeNuts836498 Tweets: 31 Replies: 294\r\n",
      "dylan_berndt Tweets: 32 Replies: 290\r\n",
      "JoeNuts836498 Tweets: 31 Replies: 280\r\n",
      "'NoneType' object has no attribute 'replies'\n",
      "JoeNuts836498 Tweets: 30 Replies: 277\r\n",
      "dylan_berndt Tweets: 27 Replies: 254\r\n",
      "JoeNuts836498 Tweets: 31 Replies: 271\r\n",
      "dylan_berndt Tweets: 28 Replies: 262\r\n"
     ]
    },
    {
     "ename": "KeyboardInterrupt",
     "evalue": "",
     "output_type": "error",
     "traceback": [
      "\u001B[1;31m---------------------------------------------------------------------------\u001B[0m",
      "\u001B[1;31mKeyboardInterrupt\u001B[0m                         Traceback (most recent call last)",
      "Cell \u001B[1;32mIn[8], line 51\u001B[0m\n\u001B[0;32m     48\u001B[0m json\u001B[38;5;241m.\u001B[39mdump(data, file, indent\u001B[38;5;241m=\u001B[39m\u001B[38;5;241m4\u001B[39m)\n\u001B[0;32m     49\u001B[0m file\u001B[38;5;241m.\u001B[39mclose()\n\u001B[1;32m---> 51\u001B[0m \u001B[43mtime\u001B[49m\u001B[38;5;241;43m.\u001B[39;49m\u001B[43msleep\u001B[49m\u001B[43m(\u001B[49m\u001B[38;5;241;43m600\u001B[39;49m\u001B[43m)\u001B[49m\n",
      "\u001B[1;31mKeyboardInterrupt\u001B[0m: "
     ]
    }
   ],
   "source": [
    "import json\n",
    "from datetime import datetime\n",
    "import time\n",
    "\n",
    "while True:\n",
    "    data = {}\n",
    "    \n",
    "    for userName in clientDict:\n",
    "        client.login(auth_info_1=userName, password=clientDict[userName])\n",
    "        client.save_cookies('cookies.json')\n",
    "        client.load_cookies(path='cookies.json')\n",
    "    \n",
    "        tweets = client.get_timeline(count=400, seen_tweet_ids=seenIds)\n",
    "    \n",
    "        usefulCount = 0\n",
    "        replyCount = 0\n",
    "        \n",
    "        try:\n",
    "            for tweet in tweets:\n",
    "                if not tweet:\n",
    "                    continue\n",
    "                if tweet.id in seenIds:\n",
    "                    continue\n",
    "                seenIds.append(tweet.id)\n",
    "                t = client.get_tweet_by_id(tweet.id)\n",
    "                if not t.replies:\n",
    "                    continue\n",
    "                if len(t.replies) > 0:\n",
    "                    usefulCount += 1\n",
    "                    replyCount += len(t.replies)\n",
    "                    sanitized = [sanitize(reply.text) for reply in t.replies]\n",
    "                    replies = [reply for reply in sanitized if len(reply) > 0]\n",
    "                    tweetData = {\"text\": sanitize(t.text), \"replies\": replies}\n",
    "                    data[t.id] = tweetData\n",
    "                    print(userName, \"Tweets:\", usefulCount, \"Replies:\", replyCount, end='\\r')\n",
    "        except Exception as e:\n",
    "            print(e)\n",
    "            continue\n",
    "        print()\n",
    "    \n",
    "    if len(data) < 1:\n",
    "        quit()\n",
    "    \n",
    "    now = datetime.now()\n",
    "    timeName = now.strftime(\"%y.%m.%d.%H.%M.%S\")\n",
    "    \n",
    "    file = open(\"data/timeline \" + timeName + \".json\", 'w+')\n",
    "    json.dump(data, file, indent=4)\n",
    "    file.close()\n",
    "\n",
    "    time.sleep(600)"
   ]
  },
  {
   "cell_type": "code",
   "execution_count": null,
   "metadata": {
    "collapsed": false,
    "jupyter": {
     "outputs_hidden": false
    }
   },
   "outputs": [],
   "source": []
  },
  {
   "cell_type": "code",
   "execution_count": null,
   "metadata": {},
   "outputs": [],
   "source": []
  }
 ],
 "metadata": {
  "kernelspec": {
   "display_name": "Python 3 (ipykernel)",
   "language": "python",
   "name": "python3"
  },
  "language_info": {
   "codemirror_mode": {
    "name": "ipython",
    "version": 3
   },
   "file_extension": ".py",
   "mimetype": "text/x-python",
   "name": "python",
   "nbconvert_exporter": "python",
   "pygments_lexer": "ipython3",
   "version": "3.9.6"
  }
 },
 "nbformat": 4,
 "nbformat_minor": 4
}
