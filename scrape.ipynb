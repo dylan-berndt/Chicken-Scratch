{
 "cells": [
  {
   "cell_type": "code",
   "execution_count": null,
   "metadata": {},
   "outputs": [],
   "source": [
    "from twikit import Client\n",
    "import re\n",
    "import string\n",
    "import os\n",
    "import json\n",
    "\n",
    "printable = set(string.printable)\n",
    "\n",
    "\n",
    "def sanitize(text):\n",
    "    text = re.sub(r'http\\S+', '', text)\n",
    "\n",
    "    text = re.sub(r'\\n', ' ', text)\n",
    "    text = re.sub(r'@\\w+', '', text)\n",
    "    text = re.sub(r'@\\w+ ', ' ', text)\n",
    "    \n",
    "    text = ''.join(filter(lambda x: x in printable, text))\n",
    "    text = text.lower().strip().rstrip()\n",
    "    return text"
   ]
  },
  {
   "cell_type": "code",
   "execution_count": null,
   "metadata": {
    "collapsed": false,
    "jupyter": {
     "outputs_hidden": false
    }
   },
   "outputs": [],
   "source": [
    "client = Client('en-US')\n",
    "\n",
    "clientDict = {'JoeNuts836498': 'techno34',\n",
    "             'dylan_berndt': 'techno34'}"
   ]
  },
  {
   "cell_type": "code",
   "execution_count": null,
   "metadata": {},
   "outputs": [],
   "source": [
    "seenIds = []\n",
    "path = 'data/'\n",
    "files = os.listdir(path)\n",
    "for fileName in files:\n",
    "    if not fileName.endswith('.json'):\n",
    "        continue\n",
    "    file = open(path + fileName)\n",
    "    fileData = json.load(file)\n",
    "    for key, tweet in fileData.items():\n",
    "        if key not in seenIds:\n",
    "            seenIds.append(key)"
   ]
  },
  {
   "cell_type": "code",
   "execution_count": null,
   "metadata": {
    "collapsed": false,
    "jupyter": {
     "outputs_hidden": false
    }
   },
   "outputs": [],
   "source": [
    "import json\n",
    "from datetime import datetime\n",
    "import time\n",
    "\n",
    "while True:\n",
    "    data = {}\n",
    "    \n",
    "    for userName in clientDict:\n",
    "        client.login(auth_info_1=userName, password=clientDict[userName])\n",
    "        client.save_cookies('cookies.json')\n",
    "        client.load_cookies(path='cookies.json')\n",
    "    \n",
    "        tweets = client.get_timeline(count=400, seen_tweet_ids=seenIds)\n",
    "    \n",
    "        usefulCount = 0\n",
    "        replyCount = 0\n",
    "        \n",
    "        try:\n",
    "            for tweet in tweets:\n",
    "                if not tweet:\n",
    "                    continue\n",
    "                if tweet.id in seenIds:\n",
    "                    continue\n",
    "                seenIds.append(tweet.id)\n",
    "                t = client.get_tweet_by_id(tweet.id)\n",
    "                if not t.replies:\n",
    "                    continue\n",
    "                if len(t.replies) > 0:\n",
    "                    usefulCount += 1\n",
    "                    replyCount += len(t.replies)\n",
    "                    sanitized = [sanitize(reply.text) for reply in t.replies]\n",
    "                    replies = [reply for reply in sanitized if len(reply) > 0]\n",
    "                    tweetData = {\"text\": sanitize(t.text), \"replies\": replies}\n",
    "                    data[t.id] = tweetData\n",
    "                    print(userName, \"Tweets:\", usefulCount, \"Replies:\", replyCount, end='\\r')\n",
    "        except Exception as e:\n",
    "            print(e)\n",
    "            continue\n",
    "        print()\n",
    "    \n",
    "    if len(data) < 1:\n",
    "        quit()\n",
    "    \n",
    "    now = datetime.now()\n",
    "    timeName = now.strftime(\"%y.%m.%d.%H.%M.%S\")\n",
    "    \n",
    "    file = open(\"data/timeline \" + timeName + \".json\", 'w+')\n",
    "    json.dump(data, file, indent=4)\n",
    "    file.close()\n",
    "\n",
    "    time.sleep(600)"
   ]
  },
  {
   "cell_type": "code",
   "execution_count": null,
   "metadata": {
    "collapsed": false,
    "jupyter": {
     "outputs_hidden": false
    }
   },
   "outputs": [],
   "source": []
  },
  {
   "cell_type": "code",
   "execution_count": null,
   "metadata": {},
   "outputs": [],
   "source": []
  }
 ],
 "metadata": {
  "kernelspec": {
   "display_name": "Python 3 (ipykernel)",
   "language": "python",
   "name": "python3"
  },
  "language_info": {
   "codemirror_mode": {
    "name": "ipython",
    "version": 3
   },
   "file_extension": ".py",
   "mimetype": "text/x-python",
   "name": "python",
   "nbconvert_exporter": "python",
   "pygments_lexer": "ipython3",
   "version": "3.9.6"
  }
 },
 "nbformat": 4,
 "nbformat_minor": 4
}
