{
 "cells": [
  {
   "cell_type": "code",
   "execution_count": null,
   "metadata": {
    "collapsed": false,
    "jupyter": {
     "outputs_hidden": false
    }
   },
   "outputs": [],
   "source": [
    "from data import *\n",
    "from transformer import *\n",
    "\n",
    "twitterData, twitterTokenizers = loadTwitterThreadData('twitterThreads/')\n",
    "inputVocabSize = len(twitterTokenizers[0].wordMap)\n",
    "targetVocabSize = len(twitterTokenizers[1].wordMap)\n",
    "print()\n",
    "print(\"Vocabulary size:\", inputVocabSize, \", \", targetVocabSize)"
   ]
  },
  {
   "cell_type": "code",
   "execution_count": null,
   "outputs": [],
   "source": [
    "conversationData, conversationTokenizers = loadConversationData()\n",
    "inputVocabSize = len(conversationTokenizers[0].wordMap)\n",
    "targetVocabSize = len(conversationTokenizers[1].wordMap)"
   ],
   "metadata": {
    "collapsed": false
   }
  },
  {
   "cell_type": "code",
   "execution_count": null,
   "metadata": {},
   "outputs": [],
   "source": [
    "# data, tokenizers = loadStableData(100)\n",
    "#\n",
    "# inputVocabSize = tokenizers.pt.get_vocab_size().numpy()\n",
    "# targetVocabSize = tokenizers.en.get_vocab_size().numpy()"
   ]
  },
  {
   "cell_type": "code",
   "execution_count": null,
   "metadata": {},
   "outputs": [],
   "source": [
    "numLayers = 4\n",
    "embeddingDepth = 128\n",
    "feedDepth = 512\n",
    "numHeads = 8\n",
    "\n",
    "optimizer = tf.keras.optimizers.Adam(CustomSchedule(embeddingDepth), beta_1=0.9, beta_2=0.98,\n",
    "                                     epsilon=1e-9)\n",
    "\n",
    "model = Transformer(numLayers=numLayers, inputVocabSize=inputVocabSize, targetVocabSize=targetVocabSize, embeddingDepth=embeddingDepth,\n",
    "                    feedDepth=feedDepth, numHeads=numHeads)\n",
    "model.compile(loss=masked_loss, optimizer=optimizer, metrics=[masked_accuracy])"
   ]
  },
  {
   "cell_type": "code",
   "execution_count": null,
   "metadata": {},
   "outputs": [],
   "source": [
    "# model.fit(conversationData, epochs=40)\n",
    "model.fit(twitterData, epochs=20)"
   ]
  },
  {
   "cell_type": "code",
   "execution_count": null,
   "metadata": {
    "collapsed": false,
    "jupyter": {
     "outputs_hidden": false
    }
   },
   "outputs": [],
   "source": [
    "# from datetime import datetime\n",
    "# now = datetime.now()\n",
    "# timeText = now.strftime(\"%y.%m.%d.%H.%M.%S\")\n",
    "# model.export(\"model \" + timeText)"
   ]
  },
  {
   "cell_type": "code",
   "execution_count": null,
   "outputs": [],
   "source": [
    "from transformer import Chat\n",
    "chat = Chat(twitterTokenizers, model)"
   ],
   "metadata": {
    "collapsed": false
   }
  },
  {
   "cell_type": "code",
   "execution_count": null,
   "outputs": [],
   "source": [
    "while True:\n",
    "    prompt = input(\"Chat with Twitter: \")\n",
    "    print(prompt)\n",
    "    output = chat(prompt)\n",
    "    print(output)"
   ],
   "metadata": {
    "collapsed": false
   }
  },
  {
   "cell_type": "code",
   "execution_count": null,
   "outputs": [],
   "source": [],
   "metadata": {
    "collapsed": false
   }
  }
 ],
 "metadata": {
  "kernelspec": {
   "display_name": "Python 3 (ipykernel)",
   "language": "python",
   "name": "python3"
  },
  "language_info": {
   "codemirror_mode": {
    "name": "ipython",
    "version": 3
   },
   "file_extension": ".py",
   "mimetype": "text/x-python",
   "name": "python",
   "nbconvert_exporter": "python",
   "pygments_lexer": "ipython3",
   "version": "3.9.6"
  }
 },
 "nbformat": 4,
 "nbformat_minor": 4
}
