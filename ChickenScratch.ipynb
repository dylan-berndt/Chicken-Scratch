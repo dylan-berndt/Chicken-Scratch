{
 "cells": [
  {
   "cell_type": "code",
   "execution_count": null,
   "metadata": {
    "collapsed": false,
    "jupyter": {
     "outputs_hidden": false
    }
   },
   "outputs": [],
   "source": [
    "from network import *\n",
    "from transformer import *\n",
    "\n",
    "data, tokenizer = loadTransformerData('data/', singular=True)\n",
    "vocabSize = len(tokenizer.wordMap)\n",
    "print(\"Vocabulary size:\", vocabSize)"
   ]
  },
  {
   "cell_type": "code",
   "execution_count": null,
   "metadata": {},
   "outputs": [],
   "source": [
    "numLayers = 4\n",
    "embeddingDepth = 128\n",
    "feedDepth = 512\n",
    "numHeads = 8\n",
    "\n",
    "model = Transformer(numLayers=numLayers, vocabSize=vocabSize, embeddingDepth=embeddingDepth, \n",
    "                    feedDepth=feedDepth, numHeads=numHeads, tokenizer=tokenizer)\n",
    "model.compile(loss=masked_loss, optimizer='adam', metrics=[masked_accuracy])"
   ]
  },
  {
   "cell_type": "code",
   "execution_count": null,
   "metadata": {},
   "outputs": [],
   "source": [
    "model.fit(data, epochs=10)"
   ]
  },
  {
   "cell_type": "code",
   "execution_count": null,
   "outputs": [],
   "source": [
    "# model.save('extra/transformer.keras')"
   ],
   "metadata": {
    "collapsed": false
   }
  },
  {
   "cell_type": "code",
   "execution_count": null,
   "outputs": [],
   "source": [
    "# model = keras.models.load_model('extra/transformer.keras')"
   ],
   "metadata": {
    "collapsed": false
   }
  },
  {
   "cell_type": "code",
   "execution_count": null,
   "outputs": [],
   "source": [
    "def call(sentence, maxLength=256):\n",
    "    tokenized = tokenizer.tokenize([sentence])\n",
    "    sentence = tf.constant(tokenized)\n",
    "\n",
    "    encoderInput = sentence\n",
    "\n",
    "    start = 1\n",
    "    end = 2\n",
    "\n",
    "    outputArray = [[start]]\n",
    "\n",
    "    print(vocabSize)\n",
    "\n",
    "    for i in range(maxLength):\n",
    "        predictions = model.call([sentence, tf.constant(outputArray)])\n",
    "        print(predictions.shape)\n",
    "        print(tf.argmax(predictions[0][-1]))\n",
    "\n",
    "        predicted_id = tf.argmax(predictions[0][-1]).numpy()\n",
    "        outputArray[0].append(predicted_id)\n",
    "\n",
    "        if predicted_id == end:\n",
    "            break\n",
    "\n",
    "    return outputArray"
   ],
   "metadata": {
    "collapsed": false
   }
  },
  {
   "cell_type": "code",
   "execution_count": null,
   "metadata": {},
   "outputs": [],
   "source": [
    "from transformer import Translator\n",
    "# translator = Translator(tokenizer, model)\n",
    "output = call(input(\"Chat with Chicken: \"))"
   ]
  },
  {
   "cell_type": "code",
   "execution_count": null,
   "metadata": {},
   "outputs": [],
   "source": []
  },
  {
   "cell_type": "code",
   "execution_count": null,
   "metadata": {},
   "outputs": [],
   "source": []
  }
 ],
 "metadata": {
  "kernelspec": {
   "display_name": "Python 3 (ipykernel)",
   "language": "python",
   "name": "python3"
  },
  "language_info": {
   "codemirror_mode": {
    "name": "ipython",
    "version": 3
   },
   "file_extension": ".py",
   "mimetype": "text/x-python",
   "name": "python",
   "nbconvert_exporter": "python",
   "pygments_lexer": "ipython3",
   "version": "3.9.6"
  }
 },
 "nbformat": 4,
 "nbformat_minor": 4
}
